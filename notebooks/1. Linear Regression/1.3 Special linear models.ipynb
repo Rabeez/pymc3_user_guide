{
 "cells": [
  {
   "cell_type": "code",
   "execution_count": 1,
   "metadata": {},
   "outputs": [],
   "source": [
    "import numpy as np\n",
    "import pandas as pd\n",
    "import matplotlib.pyplot as plt\n",
    "%matplotlib inline\n",
    "import seaborn as sns\n",
    "sns.set(style='whitegrid')\n",
    "from vega_datasets import data\n",
    "\n",
    "import pymc3 as pm\n",
    "import theano.tensor as tt\n",
    "import arviz as az\n",
    "\n",
    "import sklearn\n",
    "from sklearn.preprocessing import StandardScaler\n",
    "from sklearn.linear_model import LinearRegression"
   ]
  },
  {
   "cell_type": "code",
   "execution_count": 2,
   "metadata": {},
   "outputs": [
    {
     "name": "stdout",
     "output_type": "stream",
     "text": [
      "Python implementation: CPython\n",
      "Python version       : 3.8.5\n",
      "IPython version      : 7.19.0\n",
      "\n",
      "pandas    : 1.1.3\n",
      "seaborn   : 0.11.0\n",
      "sklearn   : 0.23.2\n",
      "matplotlib: 3.3.2\n",
      "theano    : 1.0.5\n",
      "numpy     : 1.19.2\n",
      "pymc3     : 3.9.3\n",
      "arviz     : 0.10.0\n",
      "\n"
     ]
    }
   ],
   "source": [
    "%load_ext watermark\n",
    "%watermark -v -iv"
   ]
  },
  {
   "cell_type": "markdown",
   "metadata": {},
   "source": [
    "### Robust regression"
   ]
  },
  {
   "cell_type": "code",
   "execution_count": 3,
   "metadata": {},
   "outputs": [],
   "source": [
    "from sklearn.datasets import make_regression"
   ]
  },
  {
   "cell_type": "code",
   "execution_count": 100,
   "metadata": {},
   "outputs": [
    {
     "data": {
      "image/png": "[encoded data removed]",
      "text/plain": [
       "<Figure size 432x288 with 1 Axes>"
      ]
     },
     "metadata": {},
     "output_type": "display_data"
    }
   ],
   "source": [
    "np.random.seed(42)\n",
    "data_x, data_y, coef = make_regression(n_samples=50, n_features=1, noise=5, coef=True)\n",
    "data_x = data_x.flatten()\n",
    "\n",
    "# Add outliers\n",
    "data_x = np.append(data_x, [-2, -1.8, -1.7])\n",
    "data_y = np.append(data_y, [60, 65, 67])\n",
    "\n",
    "fig, ax = plt.subplots()\n",
    "ax.scatter(data_x, data_y);\n",
    "ax.set(title=f'$y$ = {coef:.1f}$x$ + 0');"
   ]
  },
  {
   "cell_type": "code",
   "execution_count": 101,
   "metadata": {},
   "outputs": [],
   "source": [
    "def lin_reg(x_in, y_in):\n",
    "    with pm.Model() as model:\n",
    "        # data\n",
    "        x = pm.Data('x', x_in)\n",
    "        y = pm.Data('y', y_in)\n",
    "\n",
    "        # priors on parameters\n",
    "        α = pm.Normal('α', 0, 1)\n",
    "        β = pm.Normal('β', 0, 1)\n",
    "        σ = pm.HalfNormal('σ', 1)\n",
    "\n",
    "        # model\n",
    "        μ = pm.Deterministic('μ', β * x + α) # unnecessary to use `Deterministic` and probably inefficient - using this just for 'prettier' graph\n",
    "        y_hat = pm.Normal('y_hat', mu=μ, sigma=σ, observed=y)\n",
    "    return model\n",
    "\n",
    "def robust_reg(x_in, y_in):\n",
    "    with pm.Model() as model:\n",
    "        # data\n",
    "        x = pm.Data('x', x_in)\n",
    "        y = pm.Data('y', y_in)\n",
    "\n",
    "        # priors on parameters\n",
    "        α = pm.Normal('α', 0, 1)\n",
    "        β = pm.Normal('β', 0, 1)\n",
    "        σ = pm.HalfNormal('σ', 1)\n",
    "\n",
    "        # model\n",
    "        μ = pm.Deterministic('μ', β * x + α) # unnecessary to use `Deterministic` and probably inefficient - using this just for 'prettier' graph\n",
    "        y_hat = pm.StudentT('y_hat', nu=1, mu=μ, sigma=σ, observed=y)\n",
    "    return model"
   ]
  },
  {
   "cell_type": "code",
   "execution_count": 102,
   "metadata": {},
   "outputs": [
    {
     "data": {
      "text/latex": [
       "$$\n",
       "            \\begin{array}{rcl}\n",
       "            \\text{α} &\\sim & \\text{Normal}(\\mathit{mu}=0.0,~\\mathit{sigma}=1.0)\\\\\\text{β} &\\sim & \\text{Normal}(\\mathit{mu}=0.0,~\\mathit{sigma}=1.0)\\\\\\text{σ} &\\sim & \\text{HalfNormal}(\\mathit{sigma}=1.0)\\\\\\text{μ} &\\sim & \\text{Deterministic}(\\text{β},~\\text{x},~\\text{α})\\\\\\text{y_hat} &\\sim & \\text{Normal}(\\mathit{mu}=\\text{μ},~\\mathit{sigma}=f(\\text{σ}))\n",
       "            \\end{array}\n",
       "            $$"
      ],
      "text/plain": [
       "<pymc3.model.Model at 0x20cb870fb20>"
      ]
     },
     "execution_count": 102,
     "metadata": {},
     "output_type": "execute_result"
    }
   ],
   "source": [
    "lm = lin_reg(data_x, data_y)\n",
    "lm"
   ]
  },
  {
   "cell_type": "code",
   "execution_count": 103,
   "metadata": {},
   "outputs": [
    {
     "name": "stderr",
     "output_type": "stream",
     "text": [
      "Auto-assigning NUTS sampler...\n",
      "Initializing NUTS using jitter+adapt_diag...\n",
      "Multiprocess sampling (4 chains in 4 jobs)\n",
      "NUTS: [σ, β, α]\n"
     ]
    },
    {
     "data": {
      "text/html": [
       "\n",
       "    <div>\n",
       "        <style>\n",
       "            /* Turns off some styling */\n",
       "            progress {\n",
       "                /* gets rid of default border in Firefox and Opera. */\n",
       "                border: none;\n",
       "                /* Needs to be in here for Safari polyfill so background images work as expected. */\n",
       "                background-size: auto;\n",
       "            }\n",
       "            .progress-bar-interrupted, .progress-bar-interrupted::-webkit-progress-bar {\n",
       "                background: #F44336;\n",
       "            }\n",
       "        </style>\n",
       "      <progress value='8000' class='' max='8000' style='width:300px; height:20px; vertical-align: middle;'></progress>\n",
       "      100.00% [8000/8000 00:05<00:00 Sampling 4 chains, 0 divergences]\n",
       "    </div>\n",
       "    "
      ],
      "text/plain": [
       "<IPython.core.display.HTML object>"
      ]
     },
     "metadata": {},
     "output_type": "display_data"
    },
    {
     "name": "stderr",
     "output_type": "stream",
     "text": [
      "Sampling 4 chains for 1_000 tune and 1_000 draw iterations (4_000 + 4_000 draws total) took 20 seconds.\n"
     ]
    },
    {
     "data": {
      "text/html": [
       "\n",
       "    <div>\n",
       "        <style>\n",
       "            /* Turns off some styling */\n",
       "            progress {\n",
       "                /* gets rid of default border in Firefox and Opera. */\n",
       "                border: none;\n",
       "                /* Needs to be in here for Safari polyfill so background images work as expected. */\n",
       "                background-size: auto;\n",
       "            }\n",
       "            .progress-bar-interrupted, .progress-bar-interrupted::-webkit-progress-bar {\n",
       "                background: #F44336;\n",
       "            }\n",
       "        </style>\n",
       "      <progress value='4000' class='' max='4000' style='width:300px; height:20px; vertical-align: middle;'></progress>\n",
       "      100.00% [4000/4000 00:36<00:00]\n",
       "    </div>\n",
       "    "
      ],
      "text/plain": [
       "<IPython.core.display.HTML object>"
      ]
     },
     "metadata": {},
     "output_type": "display_data"
    }
   ],
   "source": [
    "with lm:\n",
    "    # Prior sampling, trace definition and posterior sampling\n",
    "    lm_prior = pm.sample_prior_predictive()\n",
    "    lm_posterior = pm.sample()\n",
    "    lm_posterior_pred = pm.sample_posterior_predictive(lm_posterior)\n",
    "lm_inf_obj = az.from_pymc3(prior=lm_prior, trace=lm_posterior, posterior_predictive=lm_posterior_pred,\n",
    "                           model=lm)"
   ]
  },
  {
   "cell_type": "code",
   "execution_count": null,
   "metadata": {},
   "outputs": [],
   "source": []
  },
  {
   "cell_type": "code",
   "execution_count": 104,
   "metadata": {},
   "outputs": [
    {
     "data": {
      "text/latex": [
       "$$\n",
       "            \\begin{array}{rcl}\n",
       "            \\text{α} &\\sim & \\text{Normal}(\\mathit{mu}=0.0,~\\mathit{sigma}=1.0)\\\\\\text{β} &\\sim & \\text{Normal}(\\mathit{mu}=0.0,~\\mathit{sigma}=1.0)\\\\\\text{σ} &\\sim & \\text{HalfNormal}(\\mathit{sigma}=1.0)\\\\\\text{μ} &\\sim & \\text{Deterministic}(\\text{β},~\\text{x},~\\text{α})\\\\\\text{y_hat} &\\sim & \\text{StudentT}(\\mathit{nu}=1.0,~\\mathit{mu}=\\text{μ},~\\mathit{lam}=f(f(\\text{σ})))\n",
       "            \\end{array}\n",
       "            $$"
      ],
      "text/plain": [
       "<pymc3.model.Model at 0x20cb5a150d0>"
      ]
     },
     "execution_count": 104,
     "metadata": {},
     "output_type": "execute_result"
    }
   ],
   "source": [
    "r_lm = robust_reg(data_x, data_y)\n",
    "r_lm"
   ]
  },
  {
   "cell_type": "code",
   "execution_count": 105,
   "metadata": {},
   "outputs": [
    {
     "name": "stderr",
     "output_type": "stream",
     "text": [
      "Auto-assigning NUTS sampler...\n",
      "Initializing NUTS using jitter+adapt_diag...\n",
      "Multiprocess sampling (4 chains in 4 jobs)\n",
      "NUTS: [σ, β, α]\n"
     ]
    },
    {
     "data": {
      "text/html": [
       "\n",
       "    <div>\n",
       "        <style>\n",
       "            /* Turns off some styling */\n",
       "            progress {\n",
       "                /* gets rid of default border in Firefox and Opera. */\n",
       "                border: none;\n",
       "                /* Needs to be in here for Safari polyfill so background images work as expected. */\n",
       "                background-size: auto;\n",
       "            }\n",
       "            .progress-bar-interrupted, .progress-bar-interrupted::-webkit-progress-bar {\n",
       "                background: #F44336;\n",
       "            }\n",
       "        </style>\n",
       "      <progress value='8000' class='' max='8000' style='width:300px; height:20px; vertical-align: middle;'></progress>\n",
       "      100.00% [8000/8000 00:06<00:00 Sampling 4 chains, 0 divergences]\n",
       "    </div>\n",
       "    "
      ],
      "text/plain": [
       "<IPython.core.display.HTML object>"
      ]
     },
     "metadata": {},
     "output_type": "display_data"
    },
    {
     "name": "stderr",
     "output_type": "stream",
     "text": [
      "Sampling 4 chains for 1_000 tune and 1_000 draw iterations (4_000 + 4_000 draws total) took 23 seconds.\n"
     ]
    },
    {
     "data": {
      "text/html": [
       "\n",
       "    <div>\n",
       "        <style>\n",
       "            /* Turns off some styling */\n",
       "            progress {\n",
       "                /* gets rid of default border in Firefox and Opera. */\n",
       "                border: none;\n",
       "                /* Needs to be in here for Safari polyfill so background images work as expected. */\n",
       "                background-size: auto;\n",
       "            }\n",
       "            .progress-bar-interrupted, .progress-bar-interrupted::-webkit-progress-bar {\n",
       "                background: #F44336;\n",
       "            }\n",
       "        </style>\n",
       "      <progress value='4000' class='' max='4000' style='width:300px; height:20px; vertical-align: middle;'></progress>\n",
       "      100.00% [4000/4000 00:37<00:00]\n",
       "    </div>\n",
       "    "
      ],
      "text/plain": [
       "<IPython.core.display.HTML object>"
      ]
     },
     "metadata": {},
     "output_type": "display_data"
    }
   ],
   "source": [
    "with r_lm:\n",
    "    # Prior sampling, trace definition and posterior sampling\n",
    "    r_lm_prior = pm.sample_prior_predictive()\n",
    "    r_lm_posterior = pm.sample()\n",
    "    r_lm_posterior_pred = pm.sample_posterior_predictive(r_lm_posterior)\n",
    "r_lm_inf_obj = az.from_pymc3(prior=r_lm_prior, trace=r_lm_posterior, posterior_predictive=r_lm_posterior_pred,\n",
    "                             model=r_lm)"
   ]
  },
  {
   "cell_type": "code",
   "execution_count": null,
   "metadata": {},
   "outputs": [],
   "source": []
  },
  {
   "cell_type": "code",
   "execution_count": 110,
   "metadata": {},
   "outputs": [
    {
     "data": {
      "text/plain": [
       "[<matplotlib.lines.Line2D at 0x20cb56c2a60>]"
      ]
     },
     "execution_count": 110,
     "metadata": {},
     "output_type": "execute_result"
    },
    {
     "data": {
      "image/png": "[encoded data removed]",
      "text/plain": [
       "<Figure size 576x576 with 4 Axes>"
      ]
     },
     "metadata": {},
     "output_type": "display_data"
    }
   ],
   "source": [
    "nshow = 50\n",
    "\n",
    "samples = 500 # default n_samples in pymc3\n",
    "idx = np.random.randint(0, samples, nshow)\n",
    "\n",
    "fig, axes = plt.subplots(nrows=2, ncols=2, sharey=True, constrained_layout=True, figsize=(8,8))\n",
    "\n",
    "for α, β in zip(lm_inf_obj.prior.get('α').values.flatten()[idx], \n",
    "                lm_inf_obj.prior.get('β').values.flatten()[idx]):\n",
    "    xs = np.linspace(-2, 2)\n",
    "    axes[0,0].plot(xs, β * xs + α)\n",
    "axes[0,0].set(title='Normal Prior');\n",
    "\n",
    "samples = 500 # default n_samples in pymc3\n",
    "idx = np.random.randint(0, samples, nshow)\n",
    "\n",
    "for α, β in zip(lm_inf_obj.posterior.get('α').values.flatten()[idx], \n",
    "                lm_inf_obj.posterior.get('β').values.flatten()[idx]):\n",
    "    xs = np.linspace(-2, 2)\n",
    "    axes[0,1].plot(xs, β * xs + α)\n",
    "axes[0,1].set(title='Normal Posterior');\n",
    "\n",
    "for α, β in zip(r_lm_inf_obj.prior.get('α').values.flatten()[idx], \n",
    "                r_lm_inf_obj.prior.get('β').values.flatten()[idx]):\n",
    "    xs = np.linspace(-2, 2)\n",
    "    axes[1,0].plot(xs, β * xs + α)\n",
    "axes[1,0].set(title='Robust Prior');\n",
    "\n",
    "samples = 500 # default n_samples in pymc3\n",
    "idx = np.random.randint(0, samples, nshow)\n",
    "\n",
    "for α, β in zip(r_lm_inf_obj.posterior.get('α').values.flatten()[idx], \n",
    "                r_lm_inf_obj.posterior.get('β').values.flatten()[idx]):\n",
    "    xs = np.linspace(-2, 2)\n",
    "    axes[1,1].plot(xs, β * xs + α)\n",
    "axes[1,1].set(title='Robust Posterior');\n",
    "\n",
    "\n",
    "axes[0,1].plot(xs, xs * coef, linewidth=2, color='black')\n",
    "axes[1,1].plot(xs, xs * coef, linewidth=2, color='black')\n",
    "\n",
    "# for ax in (ax1,ax2):\n",
    "#     ax.set(aspect='equal')"
   ]
  },
  {
   "cell_type": "code",
   "execution_count": 111,
   "metadata": {},
   "outputs": [
    {
     "data": {
      "text/html": [
       "<div>\n",
       "<style scoped>\n",
       "    .dataframe tbody tr th:only-of-type {\n",
       "        vertical-align: middle;\n",
       "    }\n",
       "\n",
       "    .dataframe tbody tr th {\n",
       "        vertical-align: top;\n",
       "    }\n",
       "\n",
       "    .dataframe thead th {\n",
       "        text-align: right;\n",
       "    }\n",
       "</style>\n",
       "<table border=\"1\" class=\"dataframe\">\n",
       "  <thead>\n",
       "    <tr style=\"text-align: right;\">\n",
       "      <th></th>\n",
       "      <th>mean</th>\n",
       "      <th>sd</th>\n",
       "      <th>hdi_3%</th>\n",
       "      <th>hdi_97%</th>\n",
       "      <th>mcse_mean</th>\n",
       "      <th>mcse_sd</th>\n",
       "      <th>ess_mean</th>\n",
       "      <th>ess_sd</th>\n",
       "      <th>ess_bulk</th>\n",
       "      <th>ess_tail</th>\n",
       "      <th>r_hat</th>\n",
       "    </tr>\n",
       "  </thead>\n",
       "  <tbody>\n",
       "    <tr>\n",
       "      <th>α</th>\n",
       "      <td>0.552</td>\n",
       "      <td>0.863</td>\n",
       "      <td>-1.078</td>\n",
       "      <td>2.138</td>\n",
       "      <td>0.012</td>\n",
       "      <td>0.012</td>\n",
       "      <td>5430.0</td>\n",
       "      <td>2677.0</td>\n",
       "      <td>5438.0</td>\n",
       "      <td>2800.0</td>\n",
       "      <td>1.0</td>\n",
       "    </tr>\n",
       "    <tr>\n",
       "      <th>β</th>\n",
       "      <td>1.764</td>\n",
       "      <td>0.839</td>\n",
       "      <td>0.126</td>\n",
       "      <td>3.194</td>\n",
       "      <td>0.011</td>\n",
       "      <td>0.009</td>\n",
       "      <td>5506.0</td>\n",
       "      <td>4751.0</td>\n",
       "      <td>5514.0</td>\n",
       "      <td>3139.0</td>\n",
       "      <td>1.0</td>\n",
       "    </tr>\n",
       "    <tr>\n",
       "      <th>σ</th>\n",
       "      <td>11.207</td>\n",
       "      <td>0.461</td>\n",
       "      <td>10.359</td>\n",
       "      <td>12.084</td>\n",
       "      <td>0.006</td>\n",
       "      <td>0.004</td>\n",
       "      <td>5280.0</td>\n",
       "      <td>5269.0</td>\n",
       "      <td>5270.0</td>\n",
       "      <td>2785.0</td>\n",
       "      <td>1.0</td>\n",
       "    </tr>\n",
       "  </tbody>\n",
       "</table>\n",
       "</div>"
      ],
      "text/plain": [
       "     mean     sd  hdi_3%  hdi_97%  mcse_mean  mcse_sd  ess_mean  ess_sd  \\\n",
       "α   0.552  0.863  -1.078    2.138      0.012    0.012    5430.0  2677.0   \n",
       "β   1.764  0.839   0.126    3.194      0.011    0.009    5506.0  4751.0   \n",
       "σ  11.207  0.461  10.359   12.084      0.006    0.004    5280.0  5269.0   \n",
       "\n",
       "   ess_bulk  ess_tail  r_hat  \n",
       "α    5438.0    2800.0    1.0  \n",
       "β    5514.0    3139.0    1.0  \n",
       "σ    5270.0    2785.0    1.0  "
      ]
     },
     "execution_count": 111,
     "metadata": {},
     "output_type": "execute_result"
    }
   ],
   "source": [
    "az.summary(lm_inf_obj, var_names=['~μ'])"
   ]
  },
  {
   "cell_type": "code",
   "execution_count": 112,
   "metadata": {},
   "outputs": [
    {
     "data": {
      "text/html": [
       "<div>\n",
       "<style scoped>\n",
       "    .dataframe tbody tr th:only-of-type {\n",
       "        vertical-align: middle;\n",
       "    }\n",
       "\n",
       "    .dataframe tbody tr th {\n",
       "        vertical-align: top;\n",
       "    }\n",
       "\n",
       "    .dataframe thead th {\n",
       "        text-align: right;\n",
       "    }\n",
       "</style>\n",
       "<table border=\"1\" class=\"dataframe\">\n",
       "  <thead>\n",
       "    <tr style=\"text-align: right;\">\n",
       "      <th></th>\n",
       "      <th>mean</th>\n",
       "      <th>sd</th>\n",
       "      <th>hdi_3%</th>\n",
       "      <th>hdi_97%</th>\n",
       "      <th>mcse_mean</th>\n",
       "      <th>mcse_sd</th>\n",
       "      <th>ess_mean</th>\n",
       "      <th>ess_sd</th>\n",
       "      <th>ess_bulk</th>\n",
       "      <th>ess_tail</th>\n",
       "      <th>r_hat</th>\n",
       "    </tr>\n",
       "  </thead>\n",
       "  <tbody>\n",
       "    <tr>\n",
       "      <th>α</th>\n",
       "      <td>-0.872</td>\n",
       "      <td>0.874</td>\n",
       "      <td>-2.538</td>\n",
       "      <td>0.711</td>\n",
       "      <td>0.013</td>\n",
       "      <td>0.012</td>\n",
       "      <td>4292.0</td>\n",
       "      <td>2697.0</td>\n",
       "      <td>4268.0</td>\n",
       "      <td>2465.0</td>\n",
       "      <td>1.0</td>\n",
       "    </tr>\n",
       "    <tr>\n",
       "      <th>β</th>\n",
       "      <td>6.019</td>\n",
       "      <td>1.187</td>\n",
       "      <td>3.755</td>\n",
       "      <td>8.141</td>\n",
       "      <td>0.021</td>\n",
       "      <td>0.015</td>\n",
       "      <td>3234.0</td>\n",
       "      <td>3176.0</td>\n",
       "      <td>3205.0</td>\n",
       "      <td>2198.0</td>\n",
       "      <td>1.0</td>\n",
       "    </tr>\n",
       "    <tr>\n",
       "      <th>σ</th>\n",
       "      <td>3.992</td>\n",
       "      <td>0.580</td>\n",
       "      <td>2.950</td>\n",
       "      <td>5.112</td>\n",
       "      <td>0.011</td>\n",
       "      <td>0.007</td>\n",
       "      <td>3004.0</td>\n",
       "      <td>3004.0</td>\n",
       "      <td>2972.0</td>\n",
       "      <td>2231.0</td>\n",
       "      <td>1.0</td>\n",
       "    </tr>\n",
       "  </tbody>\n",
       "</table>\n",
       "</div>"
      ],
      "text/plain": [
       "    mean     sd  hdi_3%  hdi_97%  mcse_mean  mcse_sd  ess_mean  ess_sd  \\\n",
       "α -0.872  0.874  -2.538    0.711      0.013    0.012    4292.0  2697.0   \n",
       "β  6.019  1.187   3.755    8.141      0.021    0.015    3234.0  3176.0   \n",
       "σ  3.992  0.580   2.950    5.112      0.011    0.007    3004.0  3004.0   \n",
       "\n",
       "   ess_bulk  ess_tail  r_hat  \n",
       "α    4268.0    2465.0    1.0  \n",
       "β    3205.0    2198.0    1.0  \n",
       "σ    2972.0    2231.0    1.0  "
      ]
     },
     "execution_count": 112,
     "metadata": {},
     "output_type": "execute_result"
    }
   ],
   "source": [
    "az.summary(r_lm_inf_obj, var_names=['~μ'])"
   ]
  },
  {
   "cell_type": "code",
   "execution_count": 113,
   "metadata": {},
   "outputs": [
    {
     "data": {
      "text/plain": [
       "array(14.0924225)"
      ]
     },
     "execution_count": 113,
     "metadata": {},
     "output_type": "execute_result"
    }
   ],
   "source": [
    "coef"
   ]
  },
  {
   "cell_type": "markdown",
   "metadata": {},
   "source": [
    "### $L_1$ regularization"
   ]
  },
  {
   "cell_type": "code",
   "execution_count": 116,
   "metadata": {},
   "outputs": [
    {
     "data": {
      "image/png": "[encoded data removed]",
      "text/plain": [
       "<Figure size 576x288 with 2 Axes>"
      ]
     },
     "metadata": {},
     "output_type": "display_data"
    }
   ],
   "source": [
    "np.random.seed(42)\n",
    "data_x, data_y, coef = make_regression(n_samples=50, n_features=2, n_informative=1, noise=5, coef=True)\n",
    "\n",
    "fig, axes = plt.subplots(ncols=2, constrained_layout=True, figsize=(8,4))\n",
    "\n",
    "axes[0].scatter(data_x[:,0], data_y);\n",
    "axes[1].scatter(data_x[:,1], data_y);\n",
    "\n",
    "for ax in axes:\n",
    "    ax.set(title=f'$y$ = {coef[0]:.1f}$x_1$ + {coef[1]:.1f}$x_2$ + 0');"
   ]
  },
  {
   "cell_type": "code",
   "execution_count": 118,
   "metadata": {},
   "outputs": [],
   "source": [
    "def multi_reg_l2(x_in, y_in):\n",
    "    with pm.Model() as model:\n",
    "        # data\n",
    "        x = pm.Data('x', x_in)\n",
    "        y = pm.Data('y', y_in)\n",
    "\n",
    "        # priors on parameters\n",
    "        α = pm.Normal('α', 0, 1)\n",
    "        β = pm.Normal('β', 0, 1, shape=x_in.shape[1])\n",
    "        σ = pm.HalfNormal('σ', 1)\n",
    "\n",
    "        # model\n",
    "        μ = pm.Deterministic('μ', x @ β + α) # matrix multiplication here is neccessary\n",
    "        y_hat = pm.Normal('y_hat', mu=μ, sigma=σ, observed=y)\n",
    "    return model\n",
    "\n",
    "def multi_reg_l1(x_in, y_in):\n",
    "    with pm.Model() as model:\n",
    "        # data\n",
    "        x = pm.Data('x', x_in)\n",
    "        y = pm.Data('y', y_in)\n",
    "\n",
    "        # priors on parameters\n",
    "        α = pm.Laplace('α', 0, 1)\n",
    "        β = pm.Laplace('β', 0, 1, shape=x_in.shape[1])\n",
    "        σ = pm.HalfNormal('σ', 1)\n",
    "\n",
    "        # model\n",
    "        μ = pm.Deterministic('μ', x @ β + α) # matrix multiplication here is neccessary\n",
    "        y_hat = pm.Normal('y_hat', mu=μ, sigma=σ, observed=y)\n",
    "    return model"
   ]
  },
  {
   "cell_type": "code",
   "execution_count": 129,
   "metadata": {},
   "outputs": [
    {
     "data": {
      "text/latex": [
       "$$\n",
       "            \\begin{array}{rcl}\n",
       "            \\text{α} &\\sim & \\text{Laplace}(\\mathit{mu}=0.0,~\\mathit{b}=1.0)\\\\\\text{β} &\\sim & \\text{Laplace}(\\mathit{mu}=0.0,~\\mathit{b}=1.0)\\\\\\text{σ} &\\sim & \\text{HalfNormal}(\\mathit{sigma}=1.0)\\\\\\text{μ} &\\sim & \\text{Deterministic}(\\text{x},~\\text{β},~\\text{α})\\\\\\text{y_hat} &\\sim & \\text{Normal}(\\mathit{mu}=\\text{μ},~\\mathit{sigma}=f(\\text{σ}))\n",
       "            \\end{array}\n",
       "            $$"
      ],
      "text/plain": [
       "<pymc3.model.Model at 0x20cbb959af0>"
      ]
     },
     "execution_count": 129,
     "metadata": {},
     "output_type": "execute_result"
    }
   ],
   "source": [
    "l1_lm = multi_reg_l1(data_x, data_y)\n",
    "l1_lm"
   ]
  },
  {
   "cell_type": "code",
   "execution_count": 130,
   "metadata": {},
   "outputs": [
    {
     "name": "stderr",
     "output_type": "stream",
     "text": [
      "Auto-assigning NUTS sampler...\n",
      "Initializing NUTS using jitter+adapt_diag...\n",
      "Multiprocess sampling (4 chains in 4 jobs)\n",
      "NUTS: [σ, β, α]\n"
     ]
    },
    {
     "data": {
      "text/html": [
       "\n",
       "    <div>\n",
       "        <style>\n",
       "            /* Turns off some styling */\n",
       "            progress {\n",
       "                /* gets rid of default border in Firefox and Opera. */\n",
       "                border: none;\n",
       "                /* Needs to be in here for Safari polyfill so background images work as expected. */\n",
       "                background-size: auto;\n",
       "            }\n",
       "            .progress-bar-interrupted, .progress-bar-interrupted::-webkit-progress-bar {\n",
       "                background: #F44336;\n",
       "            }\n",
       "        </style>\n",
       "      <progress value='8000' class='' max='8000' style='width:300px; height:20px; vertical-align: middle;'></progress>\n",
       "      100.00% [8000/8000 00:06<00:00 Sampling 4 chains, 0 divergences]\n",
       "    </div>\n",
       "    "
      ],
      "text/plain": [
       "<IPython.core.display.HTML object>"
      ]
     },
     "metadata": {},
     "output_type": "display_data"
    },
    {
     "name": "stderr",
     "output_type": "stream",
     "text": [
      "Sampling 4 chains for 1_000 tune and 1_000 draw iterations (4_000 + 4_000 draws total) took 21 seconds.\n"
     ]
    },
    {
     "data": {
      "text/html": [
       "\n",
       "    <div>\n",
       "        <style>\n",
       "            /* Turns off some styling */\n",
       "            progress {\n",
       "                /* gets rid of default border in Firefox and Opera. */\n",
       "                border: none;\n",
       "                /* Needs to be in here for Safari polyfill so background images work as expected. */\n",
       "                background-size: auto;\n",
       "            }\n",
       "            .progress-bar-interrupted, .progress-bar-interrupted::-webkit-progress-bar {\n",
       "                background: #F44336;\n",
       "            }\n",
       "        </style>\n",
       "      <progress value='4000' class='' max='4000' style='width:300px; height:20px; vertical-align: middle;'></progress>\n",
       "      100.00% [4000/4000 00:37<00:00]\n",
       "    </div>\n",
       "    "
      ],
      "text/plain": [
       "<IPython.core.display.HTML object>"
      ]
     },
     "metadata": {},
     "output_type": "display_data"
    }
   ],
   "source": [
    "with l1_lm:\n",
    "    # Prior sampling, trace definition and posterior sampling\n",
    "    l1_lm_prior = pm.sample_prior_predictive()\n",
    "    l1_lm_posterior = pm.sample()\n",
    "    l1_lm_posterior_pred = pm.sample_posterior_predictive(l1_lm_posterior)\n",
    "l1_lm_inf_obj = az.from_pymc3(prior=l1_lm_prior, trace=l1_lm_posterior, posterior_predictive=l1_lm_posterior_pred,\n",
    "                              model=l1_lm)"
   ]
  },
  {
   "cell_type": "code",
   "execution_count": null,
   "metadata": {},
   "outputs": [],
   "source": []
  },
  {
   "cell_type": "code",
   "execution_count": 131,
   "metadata": {},
   "outputs": [
    {
     "data": {
      "text/latex": [
       "$$\n",
       "            \\begin{array}{rcl}\n",
       "            \\text{α} &\\sim & \\text{Normal}(\\mathit{mu}=0.0,~\\mathit{sigma}=1.0)\\\\\\text{β} &\\sim & \\text{Normal}(\\mathit{mu}=0.0,~\\mathit{sigma}=1.0)\\\\\\text{σ} &\\sim & \\text{HalfNormal}(\\mathit{sigma}=1.0)\\\\\\text{μ} &\\sim & \\text{Deterministic}(\\text{x},~\\text{β},~\\text{α})\\\\\\text{y_hat} &\\sim & \\text{Normal}(\\mathit{mu}=\\text{μ},~\\mathit{sigma}=f(\\text{σ}))\n",
       "            \\end{array}\n",
       "            $$"
      ],
      "text/plain": [
       "<pymc3.model.Model at 0x20cb603ca00>"
      ]
     },
     "execution_count": 131,
     "metadata": {},
     "output_type": "execute_result"
    }
   ],
   "source": [
    "l2_lm = multi_reg_l2(data_x, data_y)\n",
    "l2_lm"
   ]
  },
  {
   "cell_type": "code",
   "execution_count": 132,
   "metadata": {},
   "outputs": [
    {
     "name": "stderr",
     "output_type": "stream",
     "text": [
      "Auto-assigning NUTS sampler...\n",
      "Initializing NUTS using jitter+adapt_diag...\n",
      "Multiprocess sampling (4 chains in 4 jobs)\n",
      "NUTS: [σ, β, α]\n"
     ]
    },
    {
     "data": {
      "text/html": [
       "\n",
       "    <div>\n",
       "        <style>\n",
       "            /* Turns off some styling */\n",
       "            progress {\n",
       "                /* gets rid of default border in Firefox and Opera. */\n",
       "                border: none;\n",
       "                /* Needs to be in here for Safari polyfill so background images work as expected. */\n",
       "                background-size: auto;\n",
       "            }\n",
       "            .progress-bar-interrupted, .progress-bar-interrupted::-webkit-progress-bar {\n",
       "                background: #F44336;\n",
       "            }\n",
       "        </style>\n",
       "      <progress value='8000' class='' max='8000' style='width:300px; height:20px; vertical-align: middle;'></progress>\n",
       "      100.00% [8000/8000 00:07<00:00 Sampling 4 chains, 0 divergences]\n",
       "    </div>\n",
       "    "
      ],
      "text/plain": [
       "<IPython.core.display.HTML object>"
      ]
     },
     "metadata": {},
     "output_type": "display_data"
    },
    {
     "name": "stderr",
     "output_type": "stream",
     "text": [
      "Sampling 4 chains for 1_000 tune and 1_000 draw iterations (4_000 + 4_000 draws total) took 23 seconds.\n"
     ]
    },
    {
     "data": {
      "text/html": [
       "\n",
       "    <div>\n",
       "        <style>\n",
       "            /* Turns off some styling */\n",
       "            progress {\n",
       "                /* gets rid of default border in Firefox and Opera. */\n",
       "                border: none;\n",
       "                /* Needs to be in here for Safari polyfill so background images work as expected. */\n",
       "                background-size: auto;\n",
       "            }\n",
       "            .progress-bar-interrupted, .progress-bar-interrupted::-webkit-progress-bar {\n",
       "                background: #F44336;\n",
       "            }\n",
       "        </style>\n",
       "      <progress value='4000' class='' max='4000' style='width:300px; height:20px; vertical-align: middle;'></progress>\n",
       "      100.00% [4000/4000 00:37<00:00]\n",
       "    </div>\n",
       "    "
      ],
      "text/plain": [
       "<IPython.core.display.HTML object>"
      ]
     },
     "metadata": {},
     "output_type": "display_data"
    }
   ],
   "source": [
    "with l2_lm:\n",
    "    # Prior sampling, trace definition and posterior sampling\n",
    "    l2_lm_prior = pm.sample_prior_predictive()\n",
    "    l2_lm_posterior = pm.sample()\n",
    "    l2_lm_posterior_pred = pm.sample_posterior_predictive(l2_lm_posterior)\n",
    "l2_lm_inf_obj = az.from_pymc3(prior=l2_lm_prior, trace=l2_lm_posterior, posterior_predictive=l2_lm_posterior_pred,\n",
    "                              model=l2_lm)"
   ]
  },
  {
   "cell_type": "code",
   "execution_count": null,
   "metadata": {},
   "outputs": [],
   "source": []
  },
  {
   "cell_type": "code",
   "execution_count": 133,
   "metadata": {},
   "outputs": [
    {
     "data": {
      "text/html": [
       "<div>\n",
       "<style scoped>\n",
       "    .dataframe tbody tr th:only-of-type {\n",
       "        vertical-align: middle;\n",
       "    }\n",
       "\n",
       "    .dataframe tbody tr th {\n",
       "        vertical-align: top;\n",
       "    }\n",
       "\n",
       "    .dataframe thead th {\n",
       "        text-align: right;\n",
       "    }\n",
       "</style>\n",
       "<table border=\"1\" class=\"dataframe\">\n",
       "  <thead>\n",
       "    <tr style=\"text-align: right;\">\n",
       "      <th></th>\n",
       "      <th>mean</th>\n",
       "      <th>sd</th>\n",
       "      <th>hdi_3%</th>\n",
       "      <th>hdi_97%</th>\n",
       "      <th>mcse_mean</th>\n",
       "      <th>mcse_sd</th>\n",
       "      <th>ess_mean</th>\n",
       "      <th>ess_sd</th>\n",
       "      <th>ess_bulk</th>\n",
       "      <th>ess_tail</th>\n",
       "      <th>r_hat</th>\n",
       "    </tr>\n",
       "  </thead>\n",
       "  <tbody>\n",
       "    <tr>\n",
       "      <th>α</th>\n",
       "      <td>-0.170</td>\n",
       "      <td>0.454</td>\n",
       "      <td>-1.102</td>\n",
       "      <td>0.641</td>\n",
       "      <td>0.007</td>\n",
       "      <td>0.007</td>\n",
       "      <td>3816.0</td>\n",
       "      <td>2414.0</td>\n",
       "      <td>3919.0</td>\n",
       "      <td>2867.0</td>\n",
       "      <td>1.0</td>\n",
       "    </tr>\n",
       "    <tr>\n",
       "      <th>β[0]</th>\n",
       "      <td>41.168</td>\n",
       "      <td>0.660</td>\n",
       "      <td>39.908</td>\n",
       "      <td>42.383</td>\n",
       "      <td>0.010</td>\n",
       "      <td>0.007</td>\n",
       "      <td>4540.0</td>\n",
       "      <td>4539.0</td>\n",
       "      <td>4551.0</td>\n",
       "      <td>3288.0</td>\n",
       "      <td>1.0</td>\n",
       "    </tr>\n",
       "    <tr>\n",
       "      <th>β[1]</th>\n",
       "      <td>0.675</td>\n",
       "      <td>0.504</td>\n",
       "      <td>-0.183</td>\n",
       "      <td>1.664</td>\n",
       "      <td>0.007</td>\n",
       "      <td>0.006</td>\n",
       "      <td>4848.0</td>\n",
       "      <td>3807.0</td>\n",
       "      <td>4879.0</td>\n",
       "      <td>3531.0</td>\n",
       "      <td>1.0</td>\n",
       "    </tr>\n",
       "    <tr>\n",
       "      <th>σ</th>\n",
       "      <td>3.775</td>\n",
       "      <td>0.309</td>\n",
       "      <td>3.196</td>\n",
       "      <td>4.354</td>\n",
       "      <td>0.005</td>\n",
       "      <td>0.003</td>\n",
       "      <td>4244.0</td>\n",
       "      <td>4200.0</td>\n",
       "      <td>4198.0</td>\n",
       "      <td>2937.0</td>\n",
       "      <td>1.0</td>\n",
       "    </tr>\n",
       "  </tbody>\n",
       "</table>\n",
       "</div>"
      ],
      "text/plain": [
       "        mean     sd  hdi_3%  hdi_97%  mcse_mean  mcse_sd  ess_mean  ess_sd  \\\n",
       "α     -0.170  0.454  -1.102    0.641      0.007    0.007    3816.0  2414.0   \n",
       "β[0]  41.168  0.660  39.908   42.383      0.010    0.007    4540.0  4539.0   \n",
       "β[1]   0.675  0.504  -0.183    1.664      0.007    0.006    4848.0  3807.0   \n",
       "σ      3.775  0.309   3.196    4.354      0.005    0.003    4244.0  4200.0   \n",
       "\n",
       "      ess_bulk  ess_tail  r_hat  \n",
       "α       3919.0    2867.0    1.0  \n",
       "β[0]    4551.0    3288.0    1.0  \n",
       "β[1]    4879.0    3531.0    1.0  \n",
       "σ       4198.0    2937.0    1.0  "
      ]
     },
     "execution_count": 133,
     "metadata": {},
     "output_type": "execute_result"
    }
   ],
   "source": [
    "az.summary(l1_lm_inf_obj, var_names=['~μ'])"
   ]
  },
  {
   "cell_type": "code",
   "execution_count": 134,
   "metadata": {},
   "outputs": [
    {
     "data": {
      "text/html": [
       "<div>\n",
       "<style scoped>\n",
       "    .dataframe tbody tr th:only-of-type {\n",
       "        vertical-align: middle;\n",
       "    }\n",
       "\n",
       "    .dataframe tbody tr th {\n",
       "        vertical-align: top;\n",
       "    }\n",
       "\n",
       "    .dataframe thead th {\n",
       "        text-align: right;\n",
       "    }\n",
       "</style>\n",
       "<table border=\"1\" class=\"dataframe\">\n",
       "  <thead>\n",
       "    <tr style=\"text-align: right;\">\n",
       "      <th></th>\n",
       "      <th>mean</th>\n",
       "      <th>sd</th>\n",
       "      <th>hdi_3%</th>\n",
       "      <th>hdi_97%</th>\n",
       "      <th>mcse_mean</th>\n",
       "      <th>mcse_sd</th>\n",
       "      <th>ess_mean</th>\n",
       "      <th>ess_sd</th>\n",
       "      <th>ess_bulk</th>\n",
       "      <th>ess_tail</th>\n",
       "      <th>r_hat</th>\n",
       "    </tr>\n",
       "  </thead>\n",
       "  <tbody>\n",
       "    <tr>\n",
       "      <th>α</th>\n",
       "      <td>-1.038</td>\n",
       "      <td>0.895</td>\n",
       "      <td>-2.806</td>\n",
       "      <td>0.541</td>\n",
       "      <td>0.012</td>\n",
       "      <td>0.010</td>\n",
       "      <td>5712.0</td>\n",
       "      <td>3776.0</td>\n",
       "      <td>5724.0</td>\n",
       "      <td>3103.0</td>\n",
       "      <td>1.0</td>\n",
       "    </tr>\n",
       "    <tr>\n",
       "      <th>β[0]</th>\n",
       "      <td>6.583</td>\n",
       "      <td>1.014</td>\n",
       "      <td>4.682</td>\n",
       "      <td>8.431</td>\n",
       "      <td>0.016</td>\n",
       "      <td>0.011</td>\n",
       "      <td>4272.0</td>\n",
       "      <td>4233.0</td>\n",
       "      <td>4271.0</td>\n",
       "      <td>3066.0</td>\n",
       "      <td>1.0</td>\n",
       "    </tr>\n",
       "    <tr>\n",
       "      <th>β[1]</th>\n",
       "      <td>0.495</td>\n",
       "      <td>0.895</td>\n",
       "      <td>-1.178</td>\n",
       "      <td>2.179</td>\n",
       "      <td>0.012</td>\n",
       "      <td>0.012</td>\n",
       "      <td>5694.0</td>\n",
       "      <td>2728.0</td>\n",
       "      <td>5712.0</td>\n",
       "      <td>3185.0</td>\n",
       "      <td>1.0</td>\n",
       "    </tr>\n",
       "    <tr>\n",
       "      <th>σ</th>\n",
       "      <td>13.620</td>\n",
       "      <td>0.518</td>\n",
       "      <td>12.642</td>\n",
       "      <td>14.589</td>\n",
       "      <td>0.008</td>\n",
       "      <td>0.006</td>\n",
       "      <td>4395.0</td>\n",
       "      <td>4386.0</td>\n",
       "      <td>4409.0</td>\n",
       "      <td>3267.0</td>\n",
       "      <td>1.0</td>\n",
       "    </tr>\n",
       "  </tbody>\n",
       "</table>\n",
       "</div>"
      ],
      "text/plain": [
       "        mean     sd  hdi_3%  hdi_97%  mcse_mean  mcse_sd  ess_mean  ess_sd  \\\n",
       "α     -1.038  0.895  -2.806    0.541      0.012    0.010    5712.0  3776.0   \n",
       "β[0]   6.583  1.014   4.682    8.431      0.016    0.011    4272.0  4233.0   \n",
       "β[1]   0.495  0.895  -1.178    2.179      0.012    0.012    5694.0  2728.0   \n",
       "σ     13.620  0.518  12.642   14.589      0.008    0.006    4395.0  4386.0   \n",
       "\n",
       "      ess_bulk  ess_tail  r_hat  \n",
       "α       5724.0    3103.0    1.0  \n",
       "β[0]    4271.0    3066.0    1.0  \n",
       "β[1]    5712.0    3185.0    1.0  \n",
       "σ       4409.0    3267.0    1.0  "
      ]
     },
     "execution_count": 134,
     "metadata": {},
     "output_type": "execute_result"
    }
   ],
   "source": [
    "az.summary(l2_lm_inf_obj, var_names=['~μ'])"
   ]
  },
  {
   "cell_type": "code",
   "execution_count": 135,
   "metadata": {},
   "outputs": [
    {
     "data": {
      "text/plain": [
       "array([41.74110031,  0.        ])"
      ]
     },
     "execution_count": 135,
     "metadata": {},
     "output_type": "execute_result"
    }
   ],
   "source": [
    "coef"
   ]
  },
  {
   "cell_type": "code",
   "execution_count": null,
   "metadata": {},
   "outputs": [],
   "source": []
  },
  {
   "cell_type": "code",
   "execution_count": null,
   "metadata": {},
   "outputs": [],
   "source": []
  },
  {
   "cell_type": "code",
   "execution_count": null,
   "metadata": {},
   "outputs": [],
   "source": []
  }
 ],
 "metadata": {
  "kernelspec": {
   "display_name": "Python [conda env:pymc]",
   "language": "python",
   "name": "conda-env-pymc-py"
  },
  "language_info": {
   "codemirror_mode": {
    "name": "ipython",
    "version": 3
   },
   "file_extension": ".py",
   "mimetype": "text/x-python",
   "name": "python",
   "nbconvert_exporter": "python",
   "pygments_lexer": "ipython3",
   "version": "3.8.5"
  },
  "widgets": {
   "application/vnd.jupyter.widget-state+json": {
    "state": {},
    "version_major": 2,
    "version_minor": 0
   }
  }
 },
 "nbformat": 4,
 "nbformat_minor": 4
}
